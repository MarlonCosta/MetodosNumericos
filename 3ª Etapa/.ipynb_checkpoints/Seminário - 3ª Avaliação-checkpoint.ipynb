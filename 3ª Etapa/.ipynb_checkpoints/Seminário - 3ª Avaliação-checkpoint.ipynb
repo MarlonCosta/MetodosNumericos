{
 "cells": [
  {
   "cell_type": "code",
   "execution_count": 2,
   "metadata": {},
   "outputs": [],
   "source": [
    "import numpy as np"
   ]
  },
  {
   "cell_type": "markdown",
   "metadata": {},
   "source": [
    "# Amostragem e Reconstrução de Sinais\n"
   ]
  },
  {
   "cell_type": "markdown",
   "metadata": {},
   "source": [
    "## Introdução\n",
    "\n",
    "Um processador digital não é capaz de fazer operações sob um sinal contínuo de forma direta, visto que o processador só é capaz de manipular diretamente sinais digitais, para isso, é necessário que ele faça uma discretização do sinal,tanto no tempo quanto na amplitude. O processo de discretização no tempo é denominado amostragem, caracterizando um sinal discreto. Um sinal só é considero digital após ser discretizado também na amplitude, por meio do processo de quantização.\n",
    "\n",
    "![](http://nbviewer.jupyter.org/github/spatialaudio/signals-and-systems-lecture/blob/master/sampling/analog_discrete_digital.png)"
   ]
  },
  {
   "cell_type": "markdown",
   "metadata": {},
   "source": [
    "## Modelo Ideal de Amostragem\n",
    "\n",
    "Para amostragem de um sinal $x(t)$ os valores de amplitude são tomados em instantes de tempo determinados, podendo esses instantes serem escolhidos arbitrareamente, mas em geral,são igualmente espaçados (amostragem uniforme). \n",
    "\n",
    " No modelo ideal de amostragem o sinal amostrado é composto de uma série de impulsos Dirac equidistantes que são ponderados pelos valores de amplitude do sinal contínuo. É considerado um modelo ideal, pois não pode ser reproduzido fisicamente.\n",
    " \n",
    "$x_s(t) =  \\sum_{-\\infty} ^ {\\infty} x(t) \\delta(t - kT) = \\sum_{-\\infty} ^ {\\infty} x(kT) \\delta(t - kT)$\n",
    "\n",
    "![](http://nbviewer.jupyter.org/github/spatialaudio/signals-and-systems-lecture/blob/master/sampling/ideal_sampling.png)"
   ]
  },
  {
   "cell_type": "code",
   "execution_count": null,
   "metadata": {},
   "outputs": [],
   "source": []
  }
 ],
 "metadata": {
  "kernelspec": {
   "display_name": "Python 3",
   "language": "python",
   "name": "python3"
  },
  "language_info": {
   "codemirror_mode": {
    "name": "ipython",
    "version": 3
   },
   "file_extension": ".py",
   "mimetype": "text/x-python",
   "name": "python",
   "nbconvert_exporter": "python",
   "pygments_lexer": "ipython3",
   "version": "3.7.0"
  }
 },
 "nbformat": 4,
 "nbformat_minor": 1
}
