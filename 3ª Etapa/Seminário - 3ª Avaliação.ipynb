{
 "cells": [
  {
   "cell_type": "code",
   "execution_count": 1,
   "metadata": {
    "collapsed": true
   },
   "outputs": [],
   "source": [
    "import numpy as np"
   ]
  },
  {
   "cell_type": "markdown",
   "metadata": {},
   "source": [
    "# Espectro de um sinal amostrado"
   ]
  },
  {
   "cell_type": "markdown",
   "metadata": {},
   "source": [
    "O espectro $X_s(j\\omega) = \\mathscr{F} \\{x_s(t)\\}$ do sinal amostrado $X_s(t)$ é derivado aplicando o teorema da multiplicação para representação acima do sinal amostrado pelo pente de Dirac\n",
    "\n",
    "$X_s(j\\omega) = \\frac{1}{2\\pi}X(j\\omega)*Dirac comb(\\frac{\\omega}{\\omega_s})$\n",
    "\n",
    "$             = \\frac{1}{2\\pi}X(j\\omega)*\\frac{2\\pi}{T}\\sum_{\\mu = -\\infty}^{\\infty}\\delta(\\omega-\\mu\\omega_s)$\n",
    "\n",
    "$             =\\frac{1}{T}\\sum_{\\mu = -\\infty}^{\\infty}X(j(\\omega-\\mu\\omega_s))$\n",
    "\n",
    "onde $X(j\\omega) = \\mathscr{F}\\ \\{x(t)\\}$ denota a transformada de Fourier do sinal contínuo, $\\omega_s = 2\\pi f_s$ a frequencia de amostragem angular e $f_s = \\frac{1}{T}$ a frequencia de amostragem. O espectro resultante é periódico com um período de $\\omega_s$. Pode-se concluir que a amostragem equidistante resulta em uma repetição do espectro do sinal contínuo."
   ]
  },
  {
   "cell_type": "markdown",
   "metadata": {},
   "source": [
    "A ilustração a seguir mostra o espectro genérico de um sinal passa-baixa contínuo de valor real.\n",
    "\n",
    "![](http://nbviewer.jupyter.org/github/spatialaudio/signals-and-systems-lecture/blob/master/sampling/spectrum_lowpass_signal.png)"
   ]
  },
  {
   "cell_type": "markdown",
   "metadata": {},
   "source": [
    "O espectro do sinal amostrado é contruido pela sobreposição de cópias deslocadas do espectro do sinal passa-baixa contínuo em múltiplos de $\\omega_s$.\n",
    "\n",
    "![](http://nbviewer.jupyter.org/github/spatialaudio/signals-and-systems-lecture/blob/master/sampling/spectrum_sampled_signal.png)"
   ]
  },
  {
   "cell_type": "markdown",
   "metadata": {},
   "source": [
    "# Reconstrução Ideal"
   ]
  },
  {
   "cell_type": "markdown",
   "metadata": {},
   "source": [
    "A questão levantada é se e sob quais condições o sinal contínuo pode ser reconstruído de um sinal amostrado. Isso pode ser feito aplicando um passa-baixa ideal com frequência de corte $\\omega_c = \\frac{\\omega_s}{2}$. Isso está ilustrado na figura abaixo,\n",
    "![](http://nbviewer.jupyter.org/github/spatialaudio/signals-and-systems-lecture/blob/master/sampling/ideal_reconstruction.png)"
   ]
  },
  {
   "cell_type": "markdown",
   "metadata": {},
   "source": [
    "O sinal reconstruído $y(t)$ é dado pela convulção do sinal amostrado $x_s(t)$ com a resposta ao impulso do filtro passa-baixa. Isso resulta em <br />\n",
    "$y(t) = x_s(t) * h(t)$<br />\n",
    "$     = \\bigg(\\sum_{k=-\\infty}^{\\infty} x(kT) . \\delta(t - kT)\\bigg) * sinc\\big(\\frac{\\pi t}{T}\\big)$ <br />\n",
    "$  = \\sum_{k = -\\infty}^{\\infty}x(kT).sinc\\big(\\frac{\\pi}{T}(t - kT)\\big)$"
   ]
  },
  {
   "cell_type": "markdown",
   "metadata": {},
   "source": [
    "A reconstrução é ilustrada na figura abaixo <br />\n",
    "![](http://nbviewer.jupyter.org/github/spatialaudio/signals-and-systems-lecture/blob/master/sampling/sinc_interpolation.png)"
   ]
  }
 ],
 "metadata": {
  "kernelspec": {
   "display_name": "Python 3",
   "language": "python",
   "name": "python3"
  },
  "language_info": {
   "codemirror_mode": {
    "name": "ipython",
    "version": 3
   },
   "file_extension": ".py",
   "mimetype": "text/x-python",
   "name": "python",
   "nbconvert_exporter": "python",
   "pygments_lexer": "ipython3",
   "version": "3.6.5"
  }
 },
 "nbformat": 4,
 "nbformat_minor": 1
}
