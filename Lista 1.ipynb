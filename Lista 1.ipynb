{
 "cells": [
  {
   "cell_type": "code",
   "execution_count": 65,
   "metadata": {
    "collapsed": true
   },
   "outputs": [],
   "source": [
    "import numpy as np\n",
    "from math import floor,ceil, log10"
   ]
  },
  {
   "cell_type": "markdown",
   "metadata": {},
   "source": [
    "Questão 1"
   ]
  },
  {
   "cell_type": "code",
   "execution_count": 30,
   "metadata": {},
   "outputs": [],
   "source": [
    "def errors(real, aprox):\n",
    "    #Retorna os erros absoluto e relativo\n",
    "    v_abs = np.abs(real - aprox)\n",
    "    v_rel = v_abs/np.abs(real)*100\n",
    "    return v_abs, v_rel\n",
    "\n",
    "\n",
    "def scientific(number):\n",
    "    #Formata o número no formato científico\n",
    "    print(format(number, \"10.2E\"))"
   ]
  },
  {
   "cell_type": "code",
   "execution_count": 31,
   "metadata": {},
   "outputs": [
    {
     "name": "stdout",
     "output_type": "stream",
     "text": [
      "  5.93E-04\n  1.89E-02\n"
     ]
    }
   ],
   "source": [
    "a_abs, a_rel = errors(np.pi, 3.141)\n",
    "scientific(a_abs)\n",
    "scientific(a_rel)"
   ]
  },
  {
   "cell_type": "code",
   "execution_count": 32,
   "metadata": {},
   "outputs": [
    {
     "name": "stdout",
     "output_type": "stream",
     "text": [
      "  1.00E-05\n  1.00E-03\n"
     ]
    }
   ],
   "source": [
    "b_abs, b_rel = errors(1.00001, 1)\n",
    "scientific(b_abs)\n",
    "scientific(b_rel)"
   ]
  },
  {
   "cell_type": "code",
   "execution_count": 35,
   "metadata": {},
   "outputs": [
    {
     "name": "stdout",
     "output_type": "stream",
     "text": [
      "  1.00E+00\n  1.00E-03\n"
     ]
    }
   ],
   "source": [
    "c_abs, c_rel = errors(100001, 100000)\n",
    "scientific(c_abs)\n",
    "scientific(c_rel)"
   ]
  },
  {
   "cell_type": "markdown",
   "metadata": {},
   "source": [
    "Questão 2"
   ]
  },
  {
   "cell_type": "code",
   "execution_count": 45,
   "metadata": {},
   "outputs": [],
   "source": [
    "def round_sig(x, sig=5):\n",
    "    #Arredonda o número para 'sig' digitos significativos \n",
    "    return round(x, sig-int(floor(log10(abs(x))))-1)"
   ]
  },
  {
   "cell_type": "code",
   "execution_count": 47,
   "metadata": {},
   "outputs": [
    {
     "data": {
      "text/plain": [
       "1.7889"
      ]
     },
     "execution_count": 47,
     "metadata": {},
     "output_type": "execute_result"
    }
   ],
   "source": [
    "a2 = round_sig(1.7888544)\n",
    "a2"
   ]
  },
  {
   "cell_type": "code",
   "execution_count": 48,
   "metadata": {},
   "outputs": [
    {
     "data": {
      "text/plain": [
       "1788.9"
      ]
     },
     "execution_count": 48,
     "metadata": {},
     "output_type": "execute_result"
    }
   ],
   "source": [
    "b2 = round_sig(1788.8544)\n",
    "b2"
   ]
  },
  {
   "cell_type": "code",
   "execution_count": 59,
   "metadata": {},
   "outputs": [
    {
     "data": {
      "text/plain": [
       "0.00179"
      ]
     },
     "execution_count": 59,
     "metadata": {},
     "output_type": "execute_result"
    }
   ],
   "source": [
    "c2 = round_sig(0.0017888544)\n",
    "c2"
   ]
  },
  {
   "cell_type": "code",
   "execution_count": 51,
   "metadata": {},
   "outputs": [
    {
     "data": {
      "text/plain": [
       "0.0045966"
      ]
     },
     "execution_count": 51,
     "metadata": {},
     "output_type": "execute_result"
    }
   ],
   "source": [
    "d2 = round_sig(0.004596632)\n",
    "d2"
   ]
  },
  {
   "cell_type": "code",
   "execution_count": 53,
   "metadata": {},
   "outputs": [
    {
     "data": {
      "text/plain": [
       "2.1755e-10"
      ]
     },
     "execution_count": 53,
     "metadata": {},
     "output_type": "execute_result"
    }
   ],
   "source": [
    "e2 = round_sig(2.1754999*10**(-10))\n",
    "e2"
   ]
  },
  {
   "cell_type": "code",
   "execution_count": 58,
   "metadata": {},
   "outputs": [
    {
     "data": {
      "text/plain": [
       "21755000000.0"
      ]
     },
     "execution_count": 58,
     "metadata": {},
     "output_type": "execute_result"
    }
   ],
   "source": [
    "f2 = round_sig(2.1754999*10**(10))\n",
    "f2"
   ]
  },
  {
   "cell_type": "markdown",
   "metadata": {},
   "source": [
    "Questão 3"
   ]
  },
  {
   "cell_type": "code",
   "execution_count": 89,
   "metadata": {},
   "outputs": [
    {
     "name": "stdout",
     "output_type": "stream",
     "text": [
      "3276.0\n3280\n"
     ]
    }
   ],
   "source": [
    "#np.trunc() arredonda pro inteiro mais próximo, então, não funciona em um inteiro\n",
    "a3r, a3t = np.round(3276, decimals=-1), np.trunc(3276)\n",
    "print(a3t)\n",
    "print(a3r)\n",
    "\n"
   ]
  },
  {
   "cell_type": "code",
   "execution_count": 74,
   "metadata": {},
   "outputs": [
    {
     "name": "stdout",
     "output_type": "stream",
     "text": [
      "42.0\n42.6\n"
     ]
    }
   ],
   "source": [
    "b3t, b3r = np.trunc(42.55), np.around(42.55, 1)\n",
    "print(b3t)\n",
    "print(b3r)"
   ]
  },
  {
   "cell_type": "code",
   "execution_count": 94,
   "metadata": {},
   "outputs": [
    {
     "name": "stdout",
     "output_type": "stream",
     "text": [
      "0.0\n0.000333\n"
     ]
    }
   ],
   "source": [
    "c3t, c3r = np.trunc(0.0003331), np.around(0.0003331, 6)\n",
    "print(c3t)\n",
    "print(c3r) "
   ]
  },
  {
   "cell_type": "code",
   "execution_count": 106,
   "metadata": {},
   "outputs": [],
   "source": [
    "def sig_digits(x, a):\n",
    "    #Retorna o número de dígitos significativos CORRETOS\n",
    "    value = 0\n",
    "    n = 0\n",
    "    while value < 5*10**(-n):  \n",
    "        value = np.abs(x-a)/np.abs(x)\n",
    "        n += 1\n",
    "    return n-1"
   ]
  },
  {
   "cell_type": "code",
   "execution_count": 110,
   "metadata": {},
   "outputs": [
    {
     "data": {
      "text/plain": [
       "2"
      ]
     },
     "execution_count": 110,
     "metadata": {},
     "output_type": "execute_result"
    }
   ],
   "source": [
    "a4 = sig_digits(2.5834, 2.6)\n",
    "a4"
   ]
  },
  {
   "cell_type": "code",
   "execution_count": 112,
   "metadata": {},
   "outputs": [
    {
     "data": {
      "text/plain": [
       "2"
      ]
     },
     "execution_count": 112,
     "metadata": {},
     "output_type": "execute_result"
    }
   ],
   "source": [
    "b4 = sig_digits(100, 99)\n",
    "b4"
   ]
  },
  {
   "cell_type": "markdown",
   "metadata": {},
   "source": [
    "Questão 5"
   ]
  },
  {
   "cell_type": "markdown",
   "metadata": {},
   "source": [
    "0,1x - 0,01 = 12</br>\n",
    "0,1x = 12 + 0,01 = 12,01</br>\n",
    "x = 12,01/0,1 = 120,1"
   ]
  },
  {
   "cell_type": "markdown",
   "metadata": {},
   "source": [
    "Questão 6"
   ]
  },
  {
   "cell_type": "code",
   "execution_count": 117,
   "metadata": {},
   "outputs": [
    {
     "name": "stdout",
     "output_type": "stream",
     "text": [
      "3.46e-07\n1.1e-05\n"
     ]
    }
   ],
   "source": [
    "a6a, a6r = errors(3.1415926535898, 3.141593)\n",
    "a6a = round_sig(a6a, 3)\n",
    "a6r = round_sig(a6r, 3)\n",
    "print(a6a)\n",
    "print(a6r)"
   ]
  },
  {
   "cell_type": "code",
   "execution_count": 120,
   "metadata": {},
   "outputs": [
    {
     "name": "stdout",
     "output_type": "stream",
     "text": [
      "  1.43E-04\n  1.00E-01\n"
     ]
    }
   ],
   "source": [
    "b6a, b6r = errors(1/7, 1.43e-1)\n",
    "b6a = round_sig(b6a, 3)\n",
    "b6r = round_sig(b6r, 3)\n",
    "scientific(b6a)\n",
    "scientific(b6r)"
   ]
  }
 ],
 "metadata": {
  "kernelspec": {
   "display_name": "Python 2",
   "language": "python",
   "name": "python2"
  },
  "language_info": {
   "codemirror_mode": {
    "name": "ipython",
    "version": 2
   },
   "file_extension": ".py",
   "mimetype": "text/x-python",
   "name": "python",
   "nbconvert_exporter": "python",
   "pygments_lexer": "ipython2",
   "version": "2.7.6"
  }
 },
 "nbformat": 4,
 "nbformat_minor": 0
}
