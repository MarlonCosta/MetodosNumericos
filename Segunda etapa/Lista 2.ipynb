{
 "cells": [
  {
   "cell_type": "code",
   "execution_count": 2,
   "metadata": {
    "collapsed": true
   },
   "outputs": [],
   "source": [
    "import numpy as np\n",
    "import scipy.linalg as sla"
   ]
  },
  {
   "cell_type": "code",
   "execution_count": 3,
   "metadata": {},
   "outputs": [],
   "source": [
    "def elimin_gaussiana(a, b, imp=False, norma='inf'):\n",
    "    # matriz estendida Me\n",
    "    b = np.mat(b).T\n",
    "    Me = np.concatenate((a, b), axis=1)\n",
    "    if imp: print('Matriz estendida: \\n', Me, '\\n\\n')\n",
    "    if imp: print('=' * 80)\n",
    "    for j in range(Me.shape[-1] - 2):  # coluna\n",
    "        if imp: print('Operação na coluna', j)\n",
    "        if imp: print('=' * 80, '\\n\\n')\n",
    "        for i in range(j + 1, Me.shape[0]):  # linha\n",
    "            Me[i] = Me[i] - (Me[i, j] / Me[j, j]) * Me[j]  # operações com cada linha\n",
    "            if imp: print('Operação na linha', i, ':', Me[i], '\\n')\n",
    "            if imp: print('Matriz escalonando: \\n', Me, '\\n')\n",
    "        if imp: print('=' * 80)\n",
    "    if imp: print('\\nMatriz escalonada: \\n', Me, '\\n')\n",
    "    Matriz_A = np.delete(Me, -1, axis=1)  # matriz de coeficientes escalonada\n",
    "    Vetor_b = Me[:, -1]  # matriz de termos independentes escalonada\n",
    "    Vetor_x = sla.solve_triangular(Matriz_A, Vetor_b)  # solução do sistema escalonado\n",
    "    if imp: print('=' * 80, '\\n\\nSolução do sistema: \\n', Vetor_x)\n",
    "    # verificação do erro do sistema\n",
    "    if norma is 'inf': norma = np.inf\n",
    "    if norma is '-inf': norma = -np.inf\n",
    "    Erro = sla.norm(b - a.dot(Vetor_x), ord=norma)\n",
    "    return (Matriz_A, Vetor_b, Vetor_x, Erro)\n"
   ]
  },
  {
   "cell_type": "code",
   "execution_count": 4,
   "metadata": {},
   "outputs": [
    {
     "data": {
      "text/plain": [
       "(matrix([[ 2,  3, -1],\n         [ 0, -2, -1],\n         [ 0,  0,  5]]), matrix([[ 5],\n         [-7],\n         [15]]), array([[1.],\n        [2.],\n        [3.]]), 0.0)"
      ]
     },
     "execution_count": 4,
     "metadata": {},
     "output_type": "execute_result"
    }
   ],
   "source": [
    "a = np.array([[2,3,-1],[4,4,-3],[2,-3,1]])\n",
    "b = np.array([5,3,-1])\n",
    "M = elimin_gaussiana(a,b)\n",
    "M"
   ]
  },
  {
   "cell_type": "code",
   "execution_count": 10,
   "metadata": {},
   "outputs": [],
   "source": [
    "a = np.array([[1, 1, 1], [4, 4, 2], [2, 1, -1]]).astype(float)\n",
    "b = np.array([1, 2, 0]).astype(float)\n",
    "\n",
    "#Tive que adicionar o tipo pra minha função funcionar\n",
    "\n"
   ]
  },
  {
   "cell_type": "code",
   "execution_count": 7,
   "metadata": {},
   "outputs": [
    {
     "name": "stderr",
     "output_type": "stream",
     "text": [
      "/home/marlon/venv/lib/python3.7/site-packages/ipykernel_launcher.py:11: RuntimeWarning: divide by zero encountered in long_scalars\n  # This is added back by InteractiveShellApp.init_path()\n/home/marlon/venv/lib/python3.7/site-packages/ipykernel_launcher.py:11: RuntimeWarning: invalid value encountered in multiply\n  # This is added back by InteractiveShellApp.init_path()\n"
     ]
    },
    {
     "ename": "LinAlgError",
     "evalue": "singular matrix: resolution failed at diagonal 1",
     "traceback": [
      "\u001b[0;31m---------------------------------------------------------------------------\u001b[0m",
      "\u001b[0;31mLinAlgError\u001b[0m                               Traceback (most recent call last)",
      "\u001b[0;32m<ipython-input-7-bfd26e219082>\u001b[0m in \u001b[0;36m<module>\u001b[0;34m()\u001b[0m\n\u001b[0;32m----> 1\u001b[0;31m \u001b[0melimin_gaussiana\u001b[0m\u001b[0;34m(\u001b[0m\u001b[0ma\u001b[0m\u001b[0;34m,\u001b[0m \u001b[0mb\u001b[0m\u001b[0;34m)\u001b[0m\u001b[0;34m\u001b[0m\u001b[0;34m\u001b[0m\u001b[0m\n\u001b[0m",
      "\u001b[0;32m<ipython-input-3-89891ecbaa54>\u001b[0m in \u001b[0;36melimin_gaussiana\u001b[0;34m(a, b, imp, norma)\u001b[0m\n\u001b[1;32m     16\u001b[0m     \u001b[0mMatriz_A\u001b[0m \u001b[0;34m=\u001b[0m \u001b[0mnp\u001b[0m\u001b[0;34m.\u001b[0m\u001b[0mdelete\u001b[0m\u001b[0;34m(\u001b[0m\u001b[0mMe\u001b[0m\u001b[0;34m,\u001b[0m \u001b[0;34m-\u001b[0m\u001b[0;36m1\u001b[0m\u001b[0;34m,\u001b[0m \u001b[0maxis\u001b[0m\u001b[0;34m=\u001b[0m\u001b[0;36m1\u001b[0m\u001b[0;34m)\u001b[0m \u001b[0;31m#matriz de coeficientes escalonada\u001b[0m\u001b[0;34m\u001b[0m\u001b[0;34m\u001b[0m\u001b[0m\n\u001b[1;32m     17\u001b[0m     \u001b[0mVetor_b\u001b[0m \u001b[0;34m=\u001b[0m \u001b[0mMe\u001b[0m\u001b[0;34m[\u001b[0m\u001b[0;34m:\u001b[0m\u001b[0;34m,\u001b[0m\u001b[0;34m-\u001b[0m\u001b[0;36m1\u001b[0m\u001b[0;34m]\u001b[0m \u001b[0;31m#matriz de termos independentes escalonada\u001b[0m\u001b[0;34m\u001b[0m\u001b[0;34m\u001b[0m\u001b[0m\n\u001b[0;32m---> 18\u001b[0;31m     \u001b[0mVetor_x\u001b[0m \u001b[0;34m=\u001b[0m \u001b[0msla\u001b[0m\u001b[0;34m.\u001b[0m\u001b[0msolve_triangular\u001b[0m\u001b[0;34m(\u001b[0m\u001b[0mMatriz_A\u001b[0m\u001b[0;34m,\u001b[0m \u001b[0mVetor_b\u001b[0m\u001b[0;34m)\u001b[0m \u001b[0;31m# solução do sistema escalonado\u001b[0m\u001b[0;34m\u001b[0m\u001b[0;34m\u001b[0m\u001b[0m\n\u001b[0m\u001b[1;32m     19\u001b[0m     \u001b[0;32mif\u001b[0m \u001b[0mimp\u001b[0m\u001b[0;34m:\u001b[0m \u001b[0mprint\u001b[0m\u001b[0;34m(\u001b[0m\u001b[0;34m'='\u001b[0m\u001b[0;34m*\u001b[0m\u001b[0;36m80\u001b[0m\u001b[0;34m,\u001b[0m\u001b[0;34m'\\n\\nSolução do sistema: \\n'\u001b[0m\u001b[0;34m,\u001b[0m \u001b[0mVetor_x\u001b[0m\u001b[0;34m)\u001b[0m\u001b[0;34m\u001b[0m\u001b[0;34m\u001b[0m\u001b[0m\n\u001b[1;32m     20\u001b[0m     \u001b[0;31m#verificação do erro do sistema\u001b[0m\u001b[0;34m\u001b[0m\u001b[0;34m\u001b[0m\u001b[0;34m\u001b[0m\u001b[0m\n",
      "\u001b[0;32m~/venv/lib/python3.7/site-packages/scipy/linalg/basic.py\u001b[0m in \u001b[0;36msolve_triangular\u001b[0;34m(a, b, trans, lower, unit_diagonal, overwrite_b, debug, check_finite)\u001b[0m\n\u001b[1;32m    351\u001b[0m     \u001b[0;32mif\u001b[0m \u001b[0minfo\u001b[0m \u001b[0;34m>\u001b[0m \u001b[0;36m0\u001b[0m\u001b[0;34m:\u001b[0m\u001b[0;34m\u001b[0m\u001b[0;34m\u001b[0m\u001b[0m\n\u001b[1;32m    352\u001b[0m         raise LinAlgError(\"singular matrix: resolution failed at diagonal %d\" %\n\u001b[0;32m--> 353\u001b[0;31m                           (info-1))\n\u001b[0m\u001b[1;32m    354\u001b[0m     raise ValueError('illegal value in %d-th argument of internal trtrs' %\n\u001b[1;32m    355\u001b[0m                      (-info))\n",
      "\u001b[0;31mLinAlgError\u001b[0m: singular matrix: resolution failed at diagonal 1"
     ],
     "output_type": "error"
    }
   ],
   "source": [
    "elimin_gaussiana(a, b)"
   ]
  },
  {
   "cell_type": "markdown",
   "metadata": {},
   "source": [
    "O erro ocorre pois depois da primeira subtração, a segunda linha passa a ter os valores [0, 0, -2, -2], assim, no momento em que houver a subtração da segunda terceira linha, teremos zero como pivô."
   ]
  },
  {
   "cell_type": "code",
   "execution_count": 7,
   "metadata": {},
   "outputs": [],
   "source": [
    "def elim_gaussiana(A, b, pivotamento=None, imp=False, norma='inf'):\n",
    "    b = np.mat(b).T\n",
    "    me = np.array(np.concatenate((A, b), axis=1))\n",
    "    n = len(me)\n",
    "\n",
    "    if imp:\n",
    "        print('Matriz estendida:\\n{}\\n'.format(me))\n",
    "    if imp:\n",
    "        print('=' * 80)\n",
    "\n",
    "    # Eliminação\n",
    "    for k in range(n - 1):\n",
    "        if pivotamento:\n",
    "            # Pivô\n",
    "            maxindex = abs(me[k:, k]).argmax() + k\n",
    "            if me[maxindex, k] == 0:\n",
    "                raise ValueError(\"Matriz é singular.\")\n",
    "            # Trocas\n",
    "            if maxindex != k:\n",
    "                me[[k, maxindex]] = me[[maxindex, k]]\n",
    "\n",
    "                if imp:\n",
    "                    print(\"Troca entre as linhas {} e {}\".format(k, maxindex))\n",
    "                if imp:\n",
    "                    print('Matriz escalonando:\\n{}\\n'.format(me))\n",
    "        else:\n",
    "            if me[k, k] == 0:\n",
    "                raise ValueError(\"Pivô é zero. Tente com a variável \\'pivoteamento\\' como True.\")\n",
    "\n",
    "        for linha in range(k + 1, n):\n",
    "            mult = me[linha, k] / me[k, k]\n",
    "            me[linha, k:] = me[linha, k:] - mult * me[k, k:]\n",
    "            if imp:\n",
    "                print('Operação na linha {}: {}'.format(linha, me[linha]))\n",
    "            if imp:\n",
    "                print('Matriz escalonando: \\n {} \\n'.format(me))\n",
    "\n",
    "    # Retrosubstituição\n",
    "\n",
    "    if imp:\n",
    "        print('Matriz escalonada:\\n{}\\n'.format(me))\n",
    "\n",
    "    matriz_a = me[:, :-1]  # matriz de coeficientes escalonada\n",
    "    vetor_b = me[:, -1]  # matriz de termos independentes escalonada\n",
    "    vetor_x = sla.solve_triangular(matriz_a, vetor_b)  # solução do sistema escalonado\n",
    "\n",
    "    if imp:\n",
    "        print('=' * 80, '\\n\\nSolução do sistema: \\n', vetor_x)\n",
    "\n",
    "    # Verificação do erro do sistema\n",
    "    if norma is 'inf':\n",
    "        norma = np.inf\n",
    "    if norma is '-inf':\n",
    "        norma = -np.inf\n",
    "    erro = sla.norm(b - A.dot(vetor_x), ord=norma)\n",
    "\n",
    "    return matriz_a, vetor_b, vetor_x, erro\n"
   ]
  },
  {
   "cell_type": "code",
   "execution_count": 11,
   "metadata": {},
   "outputs": [
    {
     "data": {
      "text/plain": [
       "(array([[ 4. ,  4. ,  2. ],\n        [ 0. , -1. , -2. ],\n        [ 0. ,  0. ,  0.5]]),\n array([ 2. , -1. ,  0.5]),\n array([ 1., -1.,  1.]),\n 3.0)"
      ]
     },
     "execution_count": 11,
     "metadata": {},
     "output_type": "execute_result"
    }
   ],
   "source": [
    "elim_gaussiana(a, b, pivotamento=True)\n"
   ]
  },
  {
   "cell_type": "markdown",
   "metadata": {},
   "source": [
    "Questão 2"
   ]
  },
  {
   "cell_type": "code",
   "execution_count": 18,
   "metadata": {},
   "outputs": [
    {
     "name": "stdout",
     "output_type": "stream",
     "text": [
      "Erro absoluto: [-3.5   1.   -0.01]\nErro releativo: [-0.77777778         inf -0.00990099]\n"
     ]
    }
   ],
   "source": [
    "x = np.array([1., 1., 1.])\n",
    "x1 = np.array([4.5, 0, 1.01])\n",
    "\n",
    "erro_a = x - x1\n",
    "erro_r = erro_a/x1\n",
    "print(\"Erro absoluto: {}\\nErro releativo: {}\".format(erro_a, erro_r))"
   ]
  },
  {
   "cell_type": "markdown",
   "metadata": {},
   "source": [
    "Questão 3"
   ]
  },
  {
   "cell_type": "code",
   "execution_count": 12,
   "metadata": {},
   "outputs": [],
   "source": [
    "a = np.array([[1., 4, 52], [27, 110, -3], [22, 2, 14]])\n",
    "b = np.array([57., 134, 38])"
   ]
  },
  {
   "cell_type": "code",
   "execution_count": 13,
   "metadata": {},
   "outputs": [
    {
     "data": {
      "text/plain": [
       "(array([[ 27.        , 110.        ,  -3.        ],\n        [  0.        , -87.62962963,  16.44444444],\n        [  0.        ,   0.        ,  52.09721048]]),\n array([134.        , -71.18518519,  52.09721048]),\n array([1., 1., 1.]),\n 173.0)"
      ]
     },
     "execution_count": 13,
     "metadata": {},
     "output_type": "execute_result"
    }
   ],
   "source": [
    "elim_gaussiana(a, b, pivotamento=True)\n"
   ]
  },
  {
   "cell_type": "markdown",
   "metadata": {},
   "source": [
    "Como podemos ver, o resultado com pivoteamento parcial é o correto, ou seja, não houve erro."
   ]
  },
  {
   "cell_type": "markdown",
   "metadata": {},
   "source": [
    "Questão 4 - Já implementada na questão 1"
   ]
  },
  {
   "cell_type": "markdown",
   "metadata": {},
   "source": [
    "Questão 5"
   ]
  },
  {
   "cell_type": "code",
   "execution_count": null,
   "metadata": {},
   "outputs": [],
   "source": []
  }
 ],
 "metadata": {
  "kernelspec": {
   "display_name": "Python 2",
   "language": "python",
   "name": "python2"
  },
  "language_info": {
   "codemirror_mode": {
    "name": "ipython",
    "version": 2
   },
   "file_extension": ".py",
   "mimetype": "text/x-python",
   "name": "python",
   "nbconvert_exporter": "python",
   "pygments_lexer": "ipython2",
   "version": "2.7.6"
  }
 },
 "nbformat": 4,
 "nbformat_minor": 0
}
