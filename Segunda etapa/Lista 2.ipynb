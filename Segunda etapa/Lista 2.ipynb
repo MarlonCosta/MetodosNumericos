{
 "cells": [
  {
   "cell_type": "code",
   "execution_count": 2,
   "metadata": {
    "collapsed": true
   },
   "outputs": [],
   "source": [
    "import numpy as np\n",
    "import scipy.linalg as sla"
   ]
  },
  {
   "cell_type": "markdown",
   "metadata": {},
   "source": [
    "#Questão 1"
   ]
  },
  {
   "cell_type": "code",
   "execution_count": 6,
   "metadata": {},
   "outputs": [],
   "source": [
    "def elimin_gaussiana(a, b, imp=False, norma='inf'):\n",
    "    # matriz estendida Me\n",
    "    b = np.mat(b).T\n",
    "    Me = np.concatenate((a, b), axis=1)\n",
    "    if imp: print('Matriz estendida: \\n', Me, '\\n\\n')\n",
    "    if imp: print('=' * 80)\n",
    "    for j in range(Me.shape[-1] - 2):  # coluna\n",
    "        if imp: print('Operação na coluna', j)\n",
    "        if imp: print('=' * 80, '\\n\\n')\n",
    "        for i in range(j + 1, Me.shape[0]):  # linha\n",
    "            Me[i] = Me[i] - (Me[i, j] / Me[j, j]) * Me[j]  # operações com cada linha\n",
    "            if imp: print('Operação na linha', i, ':', Me[i], '\\n')\n",
    "            if imp: print('Matriz escalonando: \\n', Me, '\\n')\n",
    "        if imp: print('=' * 80)\n",
    "    if imp: print('\\nMatriz escalonada: \\n', Me, '\\n')\n",
    "    Matriz_A = np.delete(Me, -1, axis=1)  # matriz de coeficientes escalonada\n",
    "    Vetor_b = Me[:, -1]  # matriz de termos independentes escalonada\n",
    "    Vetor_x = sla.solve_triangular(Matriz_A, Vetor_b)  # solução do sistema escalonado\n",
    "    if imp: print('=' * 80, '\\n\\nSolução do sistema: \\n', Vetor_x)\n",
    "    # verificação do erro do sistema\n",
    "    if norma is 'inf': norma = np.inf\n",
    "    if norma is '-inf': norma = -np.inf\n",
    "    Erro = sla.norm(b - a.dot(Vetor_x), ord=norma)\n",
    "    return (Matriz_A, Vetor_b, Vetor_x, Erro)\n"
   ]
  },
  {
   "cell_type": "code",
   "execution_count": 4,
   "metadata": {},
   "outputs": [
    {
     "data": {
      "text/plain": [
       "(matrix([[ 2,  3, -1],\n         [ 0, -2, -1],\n         [ 0,  0,  5]]), matrix([[ 5],\n         [-7],\n         [15]]), array([[1.],\n        [2.],\n        [3.]]), 0.0)"
      ]
     },
     "execution_count": 4,
     "metadata": {},
     "output_type": "execute_result"
    }
   ],
   "source": [
    "a = np.array([[2,3,-1],[4,4,-3],[2,-3,1]])\n",
    "b = np.array([5,3,-1])\n",
    "M = elimin_gaussiana(a,b)\n",
    "M"
   ]
  },
  {
   "cell_type": "code",
   "execution_count": 10,
   "metadata": {},
   "outputs": [],
   "source": [
    "a = np.array([[1, 1, 1], [4, 4, 2], [2, 1, -1]]).astype(float)\n",
    "b = np.array([1, 2, 0]).astype(float)\n",
    "\n",
    "#Tive que adicionar o tipo pra minha função funcionar\n",
    "\n"
   ]
  },
  {
   "cell_type": "code",
   "execution_count": 7,
   "metadata": {},
   "outputs": [
    {
     "name": "stderr",
     "output_type": "stream",
     "text": [
      "/home/marlon/venv/lib/python3.7/site-packages/ipykernel_launcher.py:11: RuntimeWarning: divide by zero encountered in long_scalars\n  # This is added back by InteractiveShellApp.init_path()\n/home/marlon/venv/lib/python3.7/site-packages/ipykernel_launcher.py:11: RuntimeWarning: invalid value encountered in multiply\n  # This is added back by InteractiveShellApp.init_path()\n"
     ]
    },
    {
     "ename": "LinAlgError",
     "evalue": "singular matrix: resolution failed at diagonal 1",
     "traceback": [
      "\u001b[0;31m---------------------------------------------------------------------------\u001b[0m",
      "\u001b[0;31mLinAlgError\u001b[0m                               Traceback (most recent call last)",
      "\u001b[0;32m<ipython-input-7-bfd26e219082>\u001b[0m in \u001b[0;36m<module>\u001b[0;34m()\u001b[0m\n\u001b[0;32m----> 1\u001b[0;31m \u001b[0melimin_gaussiana\u001b[0m\u001b[0;34m(\u001b[0m\u001b[0ma\u001b[0m\u001b[0;34m,\u001b[0m \u001b[0mb\u001b[0m\u001b[0;34m)\u001b[0m\u001b[0;34m\u001b[0m\u001b[0;34m\u001b[0m\u001b[0m\n\u001b[0m",
      "\u001b[0;32m<ipython-input-3-89891ecbaa54>\u001b[0m in \u001b[0;36melimin_gaussiana\u001b[0;34m(a, b, imp, norma)\u001b[0m\n\u001b[1;32m     16\u001b[0m     \u001b[0mMatriz_A\u001b[0m \u001b[0;34m=\u001b[0m \u001b[0mnp\u001b[0m\u001b[0;34m.\u001b[0m\u001b[0mdelete\u001b[0m\u001b[0;34m(\u001b[0m\u001b[0mMe\u001b[0m\u001b[0;34m,\u001b[0m \u001b[0;34m-\u001b[0m\u001b[0;36m1\u001b[0m\u001b[0;34m,\u001b[0m \u001b[0maxis\u001b[0m\u001b[0;34m=\u001b[0m\u001b[0;36m1\u001b[0m\u001b[0;34m)\u001b[0m \u001b[0;31m#matriz de coeficientes escalonada\u001b[0m\u001b[0;34m\u001b[0m\u001b[0;34m\u001b[0m\u001b[0m\n\u001b[1;32m     17\u001b[0m     \u001b[0mVetor_b\u001b[0m \u001b[0;34m=\u001b[0m \u001b[0mMe\u001b[0m\u001b[0;34m[\u001b[0m\u001b[0;34m:\u001b[0m\u001b[0;34m,\u001b[0m\u001b[0;34m-\u001b[0m\u001b[0;36m1\u001b[0m\u001b[0;34m]\u001b[0m \u001b[0;31m#matriz de termos independentes escalonada\u001b[0m\u001b[0;34m\u001b[0m\u001b[0;34m\u001b[0m\u001b[0m\n\u001b[0;32m---> 18\u001b[0;31m     \u001b[0mVetor_x\u001b[0m \u001b[0;34m=\u001b[0m \u001b[0msla\u001b[0m\u001b[0;34m.\u001b[0m\u001b[0msolve_triangular\u001b[0m\u001b[0;34m(\u001b[0m\u001b[0mMatriz_A\u001b[0m\u001b[0;34m,\u001b[0m \u001b[0mVetor_b\u001b[0m\u001b[0;34m)\u001b[0m \u001b[0;31m# solução do sistema escalonado\u001b[0m\u001b[0;34m\u001b[0m\u001b[0;34m\u001b[0m\u001b[0m\n\u001b[0m\u001b[1;32m     19\u001b[0m     \u001b[0;32mif\u001b[0m \u001b[0mimp\u001b[0m\u001b[0;34m:\u001b[0m \u001b[0mprint\u001b[0m\u001b[0;34m(\u001b[0m\u001b[0;34m'='\u001b[0m\u001b[0;34m*\u001b[0m\u001b[0;36m80\u001b[0m\u001b[0;34m,\u001b[0m\u001b[0;34m'\\n\\nSolução do sistema: \\n'\u001b[0m\u001b[0;34m,\u001b[0m \u001b[0mVetor_x\u001b[0m\u001b[0;34m)\u001b[0m\u001b[0;34m\u001b[0m\u001b[0;34m\u001b[0m\u001b[0m\n\u001b[1;32m     20\u001b[0m     \u001b[0;31m#verificação do erro do sistema\u001b[0m\u001b[0;34m\u001b[0m\u001b[0;34m\u001b[0m\u001b[0;34m\u001b[0m\u001b[0m\n",
      "\u001b[0;32m~/venv/lib/python3.7/site-packages/scipy/linalg/basic.py\u001b[0m in \u001b[0;36msolve_triangular\u001b[0;34m(a, b, trans, lower, unit_diagonal, overwrite_b, debug, check_finite)\u001b[0m\n\u001b[1;32m    351\u001b[0m     \u001b[0;32mif\u001b[0m \u001b[0minfo\u001b[0m \u001b[0;34m>\u001b[0m \u001b[0;36m0\u001b[0m\u001b[0;34m:\u001b[0m\u001b[0;34m\u001b[0m\u001b[0;34m\u001b[0m\u001b[0m\n\u001b[1;32m    352\u001b[0m         raise LinAlgError(\"singular matrix: resolution failed at diagonal %d\" %\n\u001b[0;32m--> 353\u001b[0;31m                           (info-1))\n\u001b[0m\u001b[1;32m    354\u001b[0m     raise ValueError('illegal value in %d-th argument of internal trtrs' %\n\u001b[1;32m    355\u001b[0m                      (-info))\n",
      "\u001b[0;31mLinAlgError\u001b[0m: singular matrix: resolution failed at diagonal 1"
     ],
     "output_type": "error"
    }
   ],
   "source": [
    "elimin_gaussiana(a, b)"
   ]
  },
  {
   "cell_type": "markdown",
   "metadata": {},
   "source": [
    "O erro ocorre pois depois da primeira subtração, a segunda linha passa a ter os valores [0, 0, -2, -2], assim, no momento em que houver a subtração da segunda terceira linha, teremos zero como pivô."
   ]
  },
  {
   "cell_type": "code",
   "execution_count": 7,
   "metadata": {},
   "outputs": [],
   "source": [
    "def elim_gaussiana(A, b, pivotamento=None, imp=False, norma='inf'):\n",
    "    b = np.mat(b).T\n",
    "    me = np.array(np.concatenate((A, b), axis=1))\n",
    "    n = len(me)\n",
    "\n",
    "    if imp:\n",
    "        print('Matriz estendida:\\n{}\\n'.format(me))\n",
    "    if imp:\n",
    "        print('=' * 80)\n",
    "\n",
    "    # Eliminação\n",
    "    for k in range(n - 1):\n",
    "        if pivotamento:\n",
    "            # Pivô\n",
    "            maxindex = abs(me[k:, k]).argmax() + k\n",
    "            if me[maxindex, k] == 0:\n",
    "                raise ValueError(\"Matriz é singular.\")\n",
    "            # Trocas\n",
    "            if maxindex != k:\n",
    "                me[[k, maxindex]] = me[[maxindex, k]]\n",
    "\n",
    "                if imp:\n",
    "                    print(\"Troca entre as linhas {} e {}\".format(k, maxindex))\n",
    "                if imp:\n",
    "                    print('Matriz escalonando:\\n{}\\n'.format(me))\n",
    "        else:\n",
    "            if me[k, k] == 0:\n",
    "                raise ValueError(\"Pivô é zero. Tente com a variável \\'pivoteamento\\' como True.\")\n",
    "\n",
    "        for linha in range(k + 1, n):\n",
    "            mult = me[linha, k] / me[k, k]\n",
    "            me[linha, k:] = me[linha, k:] - mult * me[k, k:]\n",
    "            if imp:\n",
    "                print('Operação na linha {}: {}'.format(linha, me[linha]))\n",
    "            if imp:\n",
    "                print('Matriz escalonando: \\n {} \\n'.format(me))\n",
    "\n",
    "    # Retrosubstituição\n",
    "\n",
    "    if imp:\n",
    "        print('Matriz escalonada:\\n{}\\n'.format(me))\n",
    "\n",
    "    matriz_a = me[:, :-1]  # matriz de coeficientes escalonada\n",
    "    vetor_b = me[:, -1]  # matriz de termos independentes escalonada\n",
    "    vetor_x = sla.solve_triangular(matriz_a, vetor_b)  # solução do sistema escalonado\n",
    "\n",
    "    if imp:\n",
    "        print('=' * 80, '\\n\\nSolução do sistema: \\n', vetor_x)\n",
    "\n",
    "    # Verificação do erro do sistema\n",
    "    if norma is 'inf':\n",
    "        norma = np.inf\n",
    "    if norma is '-inf':\n",
    "        norma = -np.inf\n",
    "    erro = sla.norm(b - A.dot(vetor_x), ord=norma)\n",
    "\n",
    "    return matriz_a, vetor_b, vetor_x, erro\n"
   ]
  },
  {
   "cell_type": "code",
   "execution_count": 11,
   "metadata": {},
   "outputs": [
    {
     "data": {
      "text/plain": [
       "(array([[ 4. ,  4. ,  2. ],\n        [ 0. , -1. , -2. ],\n        [ 0. ,  0. ,  0.5]]),\n array([ 2. , -1. ,  0.5]),\n array([ 1., -1.,  1.]),\n 3.0)"
      ]
     },
     "execution_count": 11,
     "metadata": {},
     "output_type": "execute_result"
    }
   ],
   "source": [
    "elim_gaussiana(a, b, pivotamento=True)\n"
   ]
  },
  {
   "cell_type": "markdown",
   "metadata": {},
   "source": [
    "#Questão 2"
   ]
  },
  {
   "cell_type": "code",
   "execution_count": 18,
   "metadata": {},
   "outputs": [
    {
     "name": "stdout",
     "output_type": "stream",
     "text": [
      "Erro absoluto: [-3.5   1.   -0.01]\nErro releativo: [-0.77777778         inf -0.00990099]\n"
     ]
    }
   ],
   "source": [
    "x = np.array([1., 1., 1.])\n",
    "x1 = np.array([4.5, 0, 1.01])\n",
    "\n",
    "erro_a = x - x1\n",
    "erro_r = erro_a/x1\n",
    "print(\"Erro absoluto: {}\\nErro releativo: {}\".format(erro_a, erro_r))"
   ]
  },
  {
   "cell_type": "markdown",
   "metadata": {},
   "source": [
    "#Questão 3#"
   ]
  },
  {
   "cell_type": "code",
   "execution_count": 12,
   "metadata": {},
   "outputs": [],
   "source": [
    "a = np.array([[1., 4, 52], [27, 110, -3], [22, 2, 14]])\n",
    "b = np.array([57., 134, 38])"
   ]
  },
  {
   "cell_type": "code",
   "execution_count": 13,
   "metadata": {},
   "outputs": [
    {
     "data": {
      "text/plain": [
       "(array([[ 27.        , 110.        ,  -3.        ],\n        [  0.        , -87.62962963,  16.44444444],\n        [  0.        ,   0.        ,  52.09721048]]),\n array([134.        , -71.18518519,  52.09721048]),\n array([1., 1., 1.]),\n 173.0)"
      ]
     },
     "execution_count": 13,
     "metadata": {},
     "output_type": "execute_result"
    }
   ],
   "source": [
    "elim_gaussiana(a, b, pivotamento=True)\n"
   ]
  },
  {
   "cell_type": "markdown",
   "metadata": {},
   "source": [
    "Como podemos ver, o resultado com pivoteamento parcial é o correto, ou seja, não houve erro."
   ]
  },
  {
   "cell_type": "markdown",
   "metadata": {},
   "source": [
    "#Questão 4#\n",
    "Já implementada na questão 1"
   ]
  },
  {
   "cell_type": "markdown",
   "metadata": {},
   "source": [
    "#Questão 6#\n",
    "Os resultados são diferentes pois o método lu retorna as matrizes L e U separadas, permitindo outras aplicações desse resultado sem a necessidade de manipulações nas matrizes.\n",
    "\n",
    "Já o método lu_factor() retorna ambas as matrizes L e U unidas em uma só. Ou seja, no formato ideal para ser usado como entrada para a função lu_solve."
   ]
  },
  {
   "cell_type": "markdown",
   "metadata": {},
   "source": [
    "#Questão 7#"
   ]
  },
  {
   "cell_type": "markdown",
   "metadata": {},
   "source": [
    "###a)\n",
    "<br>\n",
    "####Sala 1:\n",
    "<br>Wfumantes + Qa.ca - Qa.c1 + E13(c3-c1) = 0\n",
    "<br>1000 + 400 - 200c1 + 25c3 - 25c1 = 0\n",
    "<br>1400 - 225c1 + 25c3 = 0\n",
    "<br>225c1 - 25c3 = 1400\n",
    "<br>\n",
    "####Sala 2:\n",
    "<br>Qb.cb+(Qa/2).c4 - Qc.c2 + E24(c4-c2) = 0\n",
    "<br>50*2 +100.c4 - 150.c2 + 25.c4 - 25c2 = 0\n",
    "<br>100 +100.c4 - 150.c2 + 25.c4 - 25c2 = 0\n",
    "<br>175c2 - 125c4 = 100\n",
    "<br>\n",
    "####Sala 3:\n",
    "<br>Wgrelha + Qa.c1 + E13(c1 - c3) + E34(c4-c3) - Qa.c3 = 0\n",
    "<br>2000 + 200.c1 + 25c1 - 25c3 + 50.c4 - 50.c3 - 200.c3 = 0\n",
    "<br>225.c1 - 275.c3 + 50.c4 = -2000\n",
    "<br>\n",
    "####Sala 4:\n",
    "<br>Qa.c3 + E43(c3-c4)+E42(c2-c4)-Qd.c4-Qd.c4 = 0\n",
    "<br>200.c3 + 50.c3 - 50.c4 + 25.c2 - 25.c4 - 200.c4 = 0\n",
    "<br>25.c2 + 250.c3 - 275.c4 = 0\n"
   ]
  },
  {
   "cell_type": "markdown",
   "metadata": {},
   "source": [
    "Transformando os dados acima em matriz:"
   ]
  },
  {
   "cell_type": "code",
   "execution_count": 57,
   "metadata": {},
   "outputs": [
    {
     "data": {
      "text/plain": [
       "array([ 8.09983897, 12.35196687, 16.89855072, 16.49275362])"
      ]
     },
     "execution_count": 57,
     "metadata": {},
     "output_type": "execute_result"
    }
   ],
   "source": [
    "mat_a = np.array([[225,0,-25,0], [0, 175, 0, -125], [225, 0, -275, 50], [0, 25, 250, -275]])\n",
    "mat_b = np.array([1400,100, -2000, 0])\n",
    "resultado = elim_gaussiana(mat_a, mat_b, pivotamento=True)[2]\n",
    "resultado"
   ]
  },
  {
   "cell_type": "markdown",
   "metadata": {},
   "source": [
    "###b)\n",
    "\n",
    "Para saber a quantidade de cada fator na área das crianças, devemos ter a matriz b contendo apenas os valores correspondentes ao peso desse fator. <br>Ex: para os fumantes, temos:<br>b = [1000,0,0,0]\n",
    "\n"
   ]
  },
  {
   "cell_type": "code",
   "execution_count": 27,
   "metadata": {},
   "outputs": [
    {
     "data": {
      "text/plain": [
       "array([4.99624262, 3.45065562, 4.96618357, 4.83091787])"
      ]
     },
     "execution_count": 27,
     "metadata": {},
     "output_type": "execute_result"
    }
   ],
   "source": [
    "mat_b = np.array([1000,0,0,0])\n",
    "res_i = elim_gaussiana(mat_a, mat_b, pivotamento=True)[2]\n",
    "res_i\n"
   ]
  },
  {
   "cell_type": "code",
   "execution_count": 29,
   "metadata": {},
   "outputs": [
    {
     "data": {
      "text/plain": [
       "0.2793608224382612"
      ]
     },
     "execution_count": 29,
     "metadata": {},
     "output_type": "execute_result"
    }
   ],
   "source": [
    "res_i[1]/resultado[1]\n"
   ]
  },
  {
   "cell_type": "markdown",
   "metadata": {},
   "source": [
    "####i)<br>\n",
    "Como nosso interesse é apenas na sala 2, temos que dos 12.35 mg/h de monóxido de carbono que chegam a sala 2, 3.45 são devido aos fumantes, correspondendo à cerca de 27.94% da poluição na sala das crianças."
   ]
  },
  {
   "cell_type": "code",
   "execution_count": 31,
   "metadata": {},
   "outputs": [
    {
     "data": {
      "text/plain": [
       "array([1.10359635, 6.90131125, 9.93236715, 9.66183575])"
      ]
     },
     "execution_count": 31,
     "metadata": {},
     "output_type": "execute_result"
    }
   ],
   "source": [
    "mat_b = np.array([0,0,-2000,0])12\n",
    "res_ii = elim_gaussiana(mat_a, mat_b, pivotamento=True)[2]\n",
    "res_ii"
   ]
  },
  {
   "cell_type": "code",
   "execution_count": 32,
   "metadata": {},
   "outputs": [
    {
     "data": {
      "text/plain": [
       "0.5877644368210407"
      ]
     },
     "execution_count": 32,
     "metadata": {},
     "output_type": "execute_result"
    }
   ],
   "source": [
    "res_ii[2]/resultado[2]"
   ]
  },
  {
   "cell_type": "markdown",
   "metadata": {},
   "source": [
    "####ii)<br>\n",
    "A grelha corresponde a cerca de 58.77% da poluição da sala das crianças."
   ]
  },
  {
   "cell_type": "code",
   "execution_count": 34,
   "metadata": {},
   "outputs": [
    {
     "data": {
      "text/plain": [
       "array([2., 2., 2., 2.])"
      ]
     },
     "execution_count": 34,
     "metadata": {},
     "output_type": "execute_result"
    }
   ],
   "source": [
    "mat_b = np.array([400,100,0,0])\n",
    "res_iii = elim_gaussiana(mat_a, mat_b, pivotamento=True)[2]\n",
    "res_iii"
   ]
  },
  {
   "cell_type": "code",
   "execution_count": 36,
   "metadata": {},
   "outputs": [
    {
     "data": {
      "text/plain": [
       "0.12126537785588752"
      ]
     },
     "execution_count": 36,
     "metadata": {},
     "output_type": "execute_result"
    }
   ],
   "source": [
    "res_iii[3]/resultado[3]"
   ]
  },
  {
   "cell_type": "markdown",
   "metadata": {},
   "source": [
    "####iii)\n",
    "<br>A entrada de ventilação Qa corresponde a aproximadamente 12.13% da poluição da sala das crianças\n"
   ]
  },
  {
   "cell_type": "markdown",
   "metadata": {},
   "source": [
    "###c)<br>\n",
    "\n",
    "Primeiro, vamos atualizar os valores da matriz:"
   ]
  },
  {
   "cell_type": "code",
   "execution_count": 43,
   "metadata": {},
   "outputs": [],
   "source": [
    "mat_a = np.array([[225, 0, -25, 0], [0, 175, 0, -125], [225, 0, -275, 50], [0, 25, 250, -275]])\n",
    "mat_b = np.array([2400, 100, -5000, 0])\n"
   ]
  },
  {
   "cell_type": "markdown",
   "metadata": {},
   "source": [
    "Agora, precisamos da inversa de A:"
   ]
  },
  {
   "cell_type": "code",
   "execution_count": 46,
   "metadata": {},
   "outputs": [],
   "source": [
    "inv_a = sla.inv(mat_a)"
   ]
  },
  {
   "cell_type": "code",
   "execution_count": 47,
   "metadata": {},
   "outputs": [
    {
     "data": {
      "text/plain": [
       "array([14.75095785, 26.13793103, 36.75862069, 35.79310345])"
      ]
     },
     "execution_count": 47,
     "metadata": {},
     "output_type": "execute_result"
    }
   ],
   "source": [
    "res_aum = np.dot(inv_a, mat_b)\n",
    "res_aum"
   ]
  },
  {
   "cell_type": "code",
   "execution_count": 48,
   "metadata": {},
   "outputs": [
    {
     "data": {
      "text/plain": [
       "array([ 6.65111889, 13.78596416, 19.86006997, 19.30034983])"
      ]
     },
     "execution_count": 48,
     "metadata": {},
     "output_type": "execute_result"
    }
   ],
   "source": [
    "res_aum-resultado"
   ]
  },
  {
   "cell_type": "markdown",
   "metadata": {},
   "source": [
    "Assim, temos que o aumento na concentração de monóximo de carbono na sala das crianças foi de ~13.78 mg/h"
   ]
  },
  {
   "cell_type": "markdown",
   "metadata": {},
   "source": [
    "####d)"
   ]
  },
  {
   "cell_type": "code",
   "execution_count": 59,
   "metadata": {},
   "outputs": [],
   "source": [
    "mat_a = np.array([[225, 0, -25, 0], [0, 155, 0, -105], [225, 0, -275, 50], [0, 5, 250, -255]])\n",
    "mat_b = np.array([1400, 100, -2000, 0])\n",
    "res_rede = elim_gaussiana(mat_a, mat_b, pivotamento=True)[2]\n"
   ]
  },
  {
   "cell_type": "code",
   "execution_count": 60,
   "metadata": {},
   "outputs": [
    {
     "data": {
      "text/plain": [
       "array([ 0.00972433, -0.23785999,  0.08751893,  0.43759464])"
      ]
     },
     "execution_count": 60,
     "metadata": {},
     "output_type": "execute_result"
    }
   ],
   "source": [
    "res_rede - resultado"
   ]
  },
  {
   "cell_type": "markdown",
   "metadata": {},
   "source": [
    "Concluímos então que a instalação da rede, reduziria a concentração de monóxido de carbono na sala das crianças em apenas 0.2376 mg/h"
   ]
  },
  {
   "cell_type": "markdown",
   "metadata": {},
   "source": [
    "###Questão 8"
   ]
  },
  {
   "cell_type": "code",
   "execution_count": null,
   "metadata": {},
   "outputs": [],
   "source": []
  }
 ],
 "metadata": {
  "kernelspec": {
   "display_name": "Python 2",
   "language": "python",
   "name": "python2"
  },
  "language_info": {
   "codemirror_mode": {
    "name": "ipython",
    "version": 2
   },
   "file_extension": ".py",
   "mimetype": "text/x-python",
   "name": "python",
   "nbconvert_exporter": "python",
   "pygments_lexer": "ipython2",
   "version": "2.7.6"
  }
 },
 "nbformat": 4,
 "nbformat_minor": 0
}
