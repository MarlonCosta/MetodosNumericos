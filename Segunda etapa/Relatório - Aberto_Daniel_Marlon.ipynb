{
 "cells": [
  {
   "cell_type": "markdown",
   "metadata": {
    "collapsed": true
   },
   "source": [
    "##PageRank em termos de álgebra linear:\n",
    "<br>\n",
    "PageRank cria um vetor de ranks: um elemento para cada página. Também cria uma matriz de links: cada link de uma página para a outra coloca um '1' na célula apropriada na matriz.\n",
    "<br><br>\n",
    "Então ele pega este vetor -- inicialmente definido para algum valor padrão -- e repetidamente aplica a matriz de links a ele."
   ]
  },
  {
   "cell_type": "markdown",
   "metadata": {},
   "source": [
    "##O Poder dos Autovetores\n",
    "\n",
    "Uma aplicação dos autovetores é a diagonalização de uma matriz. Dados os autovalores e autovetores de uma matriz, você pode criar três matrizes que quando combinadas, correspondem à matriz original. A matriz do meio lida com o escalonamento e é uma matriz diagonal, tendo os autovalores da matriz original como entradas.\n",
    "\n",
    "Isso nos permite algo incrível: exponenciar a matriz original é equivalente a exponenciar *apenas* a matriz do meio do trio de matrizes vindas da diagonalização. E por fim, exponenciar uma matriz diagonal é equivalente à exponenciar *apenas* as entradas da diagonal principal."
   ]
  },
  {
   "cell_type": "markdown",
   "metadata": {},
   "source": [
    "##Aplicando ao PageRank\n",
    "<br>\n",
    "No PageRank aplicamos várias vezes a matriz de links ao vetor PageRank. Isso equivale à repetidamente multiplicar a matriz de links por si mesma e depois de suficientes auto-multiplicações, aplicar o resultado ao vetor PageRank.\n",
    "<br><br>Mas, multiplicação repetida de algo por si mesmo é a exponenciação. Então, nós podemos fazer isso exponenciando a matriz, o que pode ser feito através da exponenciação da diagonal da matriz centraldo resultado da decomposição, a qual contém os autovalores da matriz original.\n",
    "<br><br>\n",
    "Porém, o PageRank trabalha com uma matriz de milhões de valores, ou seja, até que o algoritmo se estabilize, existe um número imenso de iterações, ou seja de exponenciações da matriz de links. Assim, o maior autovalor passa a ser dominante na matriz, assim como a matriz de links final tem como vetor dominante um vetor associado com o maior autovalor, da mesma forma que o autovetor final."
   ]
  }
 ],
 "metadata": {
  "kernelspec": {
   "display_name": "Python 2",
   "language": "python",
   "name": "python2"
  },
  "language_info": {
   "codemirror_mode": {
    "name": "ipython",
    "version": 2
   },
   "file_extension": ".py",
   "mimetype": "text/x-python",
   "name": "python",
   "nbconvert_exporter": "python",
   "pygments_lexer": "ipython2",
   "version": "2.7.6"
  }
 },
 "nbformat": 4,
 "nbformat_minor": 0
}
