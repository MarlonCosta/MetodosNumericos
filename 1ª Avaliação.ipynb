{
 "cells": [
  {
   "cell_type": "code",
   "execution_count": 1,
   "metadata": {},
   "outputs": [],
   "source": [
    "import numpy as np\n",
    "import scipy.optimize as opt\n",
    "import matplotlib.pyplot as plt\n",
    "import pandas as pd\n",
    "import time"
   ]
  },
  {
   "cell_type": "markdown",
   "metadata": {},
   "source": [
    "Questão 1"
   ]
  },
  {
   "cell_type": "code",
   "execution_count": 2,
   "metadata": {},
   "outputs": [],
   "source": [
    "def fixedp(f, x0, tol=10e-5, maxiter=100):\n",
    "    start_time = time.time() \n",
    "    e = 1\n",
    "    itr = 0\n",
    "    xp = np.array([])\n",
    "    try:\n",
    "        while e > tol and itr < maxiter:\n",
    "            x = f(x0)  # fixed point equation\n",
    "            e = abs((x - x0) / x)  # error at the current step\n",
    "            x0 = x\n",
    "            xp = np.append(xp, x0)  # save the solution of the current step\n",
    "            itr = itr + 1\n",
    "    except:\n",
    "        return np.nan, itr, time.time()-start_time\n",
    "    return x, itr, time.time()-start_time\n"
   ]
  },
  {
   "cell_type": "code",
   "execution_count": 3,
   "metadata": {},
   "outputs": [],
   "source": [
    "def bisection(f, lower, upper, max_iters=50, tolerance=1e-5):\n",
    "    start_time = time.time() \n",
    "    steps_taken = 0\n",
    " \n",
    "    while steps_taken < max_iters:\n",
    "        m = (lower + upper) / 2.0\n",
    " \n",
    "        if m == 0 or abs(upper-lower) < tolerance:\n",
    "            return m, steps_taken, time.time()-start_time\n",
    "        if f(m) > 0:\n",
    "            upper = m\n",
    "        else:\n",
    "            lower = m\n",
    " \n",
    "        steps_taken += 1\n",
    " \n",
    "    final_estimate = (lower + upper) / 2.0\n",
    "    return final_estimate, steps_taken, time.time()-start_time"
   ]
  },
  {
   "cell_type": "code",
   "execution_count": 4,
   "metadata": {},
   "outputs": [],
   "source": [
    "def discrete_method_approx(f, x, h=.00000001):\n",
    "    return (f(x+h) - f(x)) / h\n",
    " \n",
    " \n",
    "def newton_raphson(f, x, tolerance=.001):\n",
    "    start_time = time.time() \n",
    "    steps_taken = 0\n",
    " \n",
    "    while abs(f(x)) > tolerance:\n",
    "        df = discrete_method_approx(f, x)\n",
    "        x = x - f(x)/df\n",
    "        steps_taken += 1\n",
    "    return x, steps_taken, time.time()-start_time"
   ]
  },
  {
   "cell_type": "code",
   "execution_count": 5,
   "metadata": {},
   "outputs": [],
   "source": [
    "def secant_method(f, x0, x1, max_iter=100, tolerance = 1e-5):\n",
    "    start_time = time.time() \n",
    "    steps_taken = 1\n",
    "    while steps_taken < max_iter and abs(x1-x0) > tolerance:\n",
    "        x2 = x1 - ( (f(x1) * (x1 - x0)) / (f(x1) - f(x0)) )\n",
    "        x1, x0 = x2, x1\n",
    "        steps_taken += 1\n",
    "    return x2, steps_taken, time.time()-start_time"
   ]
  },
  {
   "cell_type": "code",
   "execution_count": 6,
   "metadata": {},
   "outputs": [],
   "source": [
    "def brents(f, x0, x1, max_iter=50, tolerance=1e-5):\n",
    "    start_time = time.time() \n",
    "    \n",
    "    fx0 = f(x0)\n",
    "    fx1 = f(x1)\n",
    " \n",
    "    assert (fx0 * fx1) <= 0, \"Root not bracketed\" \n",
    " \n",
    "    if abs(fx0) < abs(fx1):\n",
    "        x0, x1 = x1, x0\n",
    "        fx0, fx1 = fx1, fx0\n",
    " \n",
    "    x2, fx2 = x0, fx0\n",
    " \n",
    "    mflag = True\n",
    "    steps_taken = 0\n",
    " \n",
    "    while steps_taken < max_iter and abs(x1-x0) > tolerance:\n",
    "        fx0 = f(x0)\n",
    "        fx1 = f(x1)\n",
    "        fx2 = f(x2)\n",
    " \n",
    "        if fx0 != fx2 and fx1 != fx2:\n",
    "            L0 = (x0 * fx1 * fx2) / ((fx0 - fx1) * (fx0 - fx2))\n",
    "            L1 = (x1 * fx0 * fx2) / ((fx1 - fx0) * (fx1 - fx2))\n",
    "            L2 = (x2 * fx1 * fx0) / ((fx2 - fx0) * (fx2 - fx1))\n",
    "            new = L0 + L1 + L2\n",
    " \n",
    "        else:\n",
    "            new = x1 - ( (fx1 * (x1 - x0)) / (fx1 - fx0) )\n",
    " \n",
    "        if ((new < ((3 * x0 + x1) / 4) or new > x1) or\n",
    "            (mflag == True and (abs(new - x1)) >= (abs(x1 - x2) / 2)) or\n",
    "            (mflag == False and (abs(new - x1)) >= (abs(x2 - d) / 2)) or\n",
    "            (mflag == True and (abs(x1 - x2)) < tolerance) or\n",
    "            (mflag == False and (abs(x2 - d)) < tolerance)):\n",
    "            new = (x0 + x1) / 2\n",
    "            mflag = True\n",
    " \n",
    "        else:\n",
    "            mflag = False\n",
    " \n",
    "        fnew = f(new)\n",
    "        d, x2 = x2, x1\n",
    " \n",
    "        if (fx0 * fnew) < 0:\n",
    "            x1 = new\n",
    "        else:\n",
    "            x0 = new\n",
    " \n",
    "        if abs(fx0) < abs(fx1):\n",
    "            x0, x1 = x1, x0\n",
    " \n",
    "        steps_taken += 1\n",
    " \n",
    "    return x1, steps_taken, time.time()-start_time\n"
   ]
  },
  {
   "cell_type": "code",
   "execution_count": 7,
   "metadata": {},
   "outputs": [],
   "source": [
    "def f1(x): return (2 * x ** 4 + 4 * x ** 3 + 3 * x ** 2 - 10 * x - 15)\n",
    "a = 0\n",
    "b = 3\n",
    "x0 = (a + b) / 2\n",
    "def g1(x): return (2 * x ** 4 + 4 * x ** 3 + 3 * x ** 2 - 15) / 10\n",
    "def f1_prime(x): return (8 * x * 83 + 12 * x ** 2 - 10 * x - 10)\n"
   ]
  },
  {
   "cell_type": "code",
   "execution_count": 8,
   "metadata": {},
   "outputs": [],
   "source": [
    "bsc_f1 = bisection(f1, a, b, 200, 10e-10)"
   ]
  },
  {
   "cell_type": "code",
   "execution_count": 9,
   "metadata": {},
   "outputs": [],
   "source": [
    "fp_f1 = fixedp(f1, x0, 10e-10, 200)"
   ]
  },
  {
   "cell_type": "code",
   "execution_count": 10,
   "metadata": {},
   "outputs": [],
   "source": [
    "nr_f1 = newton_raphson(f1, x0, tolerance=10e-10)"
   ]
  },
  {
   "cell_type": "code",
   "execution_count": 10,
   "metadata": {},
   "outputs": [],
   "source": [
    "sec_f1 = secant_method(f1, a, b, max_iter=200, tolerance=10e-10)"
   ]
  },
  {
   "cell_type": "code",
   "execution_count": 12,
   "metadata": {},
   "outputs": [],
   "source": [
    "brt_f1 = brents(f1, a, b, max_iter=200, tolerance=10e-10)"
   ]
  },
  {
   "cell_type": "code",
   "execution_count": 16,
   "metadata": {},
   "outputs": [
    {
     "data": {
      "text/html": [
       "<div>\n",
       "<style scoped>\n",
       "    .dataframe tbody tr th:only-of-type {\n",
       "        vertical-align: middle;\n",
       "    }\n",
       "\n",
       "    .dataframe tbody tr th {\n",
       "        vertical-align: top;\n",
       "    }\n",
       "\n",
       "    .dataframe thead th {\n",
       "        text-align: right;\n",
       "    }\n",
       "</style>\n",
       "<table border=\"1\" class=\"dataframe\">\n",
       "  <thead>\n",
       "    <tr style=\"text-align: right;\">\n",
       "      <th></th>\n",
       "      <th>Bisseção</th>\n",
       "      <th>Ponto fixo</th>\n",
       "      <th>Newton-Raphson</th>\n",
       "      <th>Secante</th>\n",
       "      <th>Brents</th>\n",
       "    </tr>\n",
       "  </thead>\n",
       "  <tbody>\n",
       "    <tr>\n",
       "      <th>Raíz</th>\n",
       "      <td>1.492879</td>\n",
       "      <td>NaN</td>\n",
       "      <td>1.492879</td>\n",
       "      <td>-1.300384</td>\n",
       "      <td>1.492879</td>\n",
       "    </tr>\n",
       "    <tr>\n",
       "      <th>Iterações</th>\n",
       "      <td>32.000000</td>\n",
       "      <td>5.000000</td>\n",
       "      <td>3.000000</td>\n",
       "      <td>12.000000</td>\n",
       "      <td>11.000000</td>\n",
       "    </tr>\n",
       "    <tr>\n",
       "      <th>Exec(em seg).</th>\n",
       "      <td>0.000073</td>\n",
       "      <td>0.000786</td>\n",
       "      <td>0.000025</td>\n",
       "      <td>0.000068</td>\n",
       "      <td>0.000117</td>\n",
       "    </tr>\n",
       "  </tbody>\n",
       "</table>\n",
       "</div>"
      ],
      "text/plain": [
       "<div>\n",
       "<style scoped>\n",
       "    .dataframe tbody tr th:only-of-type {\n",
       "        vertical-align: middle;\n",
       "    }\n",
       "\n",
       "    .dataframe tbody tr th {\n",
       "        vertical-align: top;\n",
       "    }\n",
       "\n",
       "    .dataframe thead th {\n",
       "        text-align: right;\n",
       "    }\n",
       "</style>\n",
       "<table border=\"1\" class=\"dataframe\">\n",
       "  <thead>\n",
       "    <tr style=\"text-align: right;\">\n",
       "      <th></th>\n",
       "      <th>Bisseção</th>\n",
       "      <th>Ponto fixo</th>\n",
       "      <th>Newton-Raphson</th>\n",
       "      <th>Secante</th>\n",
       "      <th>Brents</th>\n",
       "    </tr>\n",
       "  </thead>\n",
       "  <tbody>\n",
       "    <tr>\n",
       "      <th>Raíz</th>\n",
       "      <td>1.492879</td>\n",
       "      <td>NaN</td>\n",
       "      <td>1.492879</td>\n",
       "      <td>-1.300384</td>\n",
       "      <td>1.492879</td>\n",
       "    </tr>\n",
       "    <tr>\n",
       "      <th>Iterações</th>\n",
       "      <td>32.000000</td>\n",
       "      <td>5.000000</td>\n",
       "      <td>3.000000</td>\n",
       "      <td>12.000000</td>\n",
       "      <td>11.000000</td>\n",
       "    </tr>\n",
       "    <tr>\n",
       "      <th>Exec(em seg).</th>\n",
       "      <td>0.000073</td>\n",
       "      <td>0.000786</td>\n",
       "      <td>0.000025</td>\n",
       "      <td>0.000068</td>\n",
       "      <td>0.000117</td>\n",
       "    </tr>\n",
       "  </tbody>\n",
       "</table>\n",
       "</div>"
      ]
     },
     "execution_count": 16,
     "metadata": {},
     "output_type": "execute_result"
    }
   ],
   "source": [
    "data = [bsc_f1, fp_f1, nr_f1, sec_f1, brt_f1]\n",
    "pd.DataFrame(data, index=[\"Bisseção\", \"Ponto fixo\", \"Newton-Raphson\", \"Secante\", \"Brents\"], columns=[\"Raíz\", \"Iterações\", \"Exec(em seg).\"]).T\n"
   ]
  },
  {
   "cell_type": "code",
   "execution_count": 17,
   "metadata": {},
   "outputs": [],
   "source": [
    "def f2(x): return (x+3)*(x+1)*(x-2)**3\n",
    "a = 0\n",
    "b = 5\n",
    "x0 = (a + b) / 2\n",
    "def g2(x): return x**5-2*x**4-9*x**3+22*x**2+5*x-24\n",
    "def f2_prime(x): return 5*x**4-8*x**3-27*x**2+44*x+4\n"
   ]
  },
  {
   "cell_type": "code",
   "execution_count": 18,
   "metadata": {},
   "outputs": [],
   "source": [
    "bsc_f2 = bisection(f2, a, b, 200, 10e-10)"
   ]
  },
  {
   "cell_type": "code",
   "execution_count": null,
   "metadata": {},
   "outputs": [],
   "source": [
    "fp_f2 = fixedp(g2, a, 10e-10, 200)\n"
   ]
  },
  {
   "cell_type": "code",
   "execution_count": null,
   "metadata": {},
   "outputs": [],
   "source": [
    "nr_f2 = newton_raphson(f2, x0, 10e-10)"
   ]
  },
  {
   "cell_type": "code",
   "execution_count": null,
   "metadata": {},
   "outputs": [],
   "source": [
    "sec_f2 = secant_method(f2, a, b, 200, 10e-10)"
   ]
  },
  {
   "cell_type": "code",
   "execution_count": null,
   "metadata": {},
   "outputs": [],
   "source": [
    "brt_f2 = brents(f2, a, b, 200, 10e-10)"
   ]
  },
  {
   "cell_type": "code",
   "execution_count": null,
   "metadata": {},
   "outputs": [],
   "source": [
    "data = [bsc_f2, fp_f2, nr_f2, sec_f2, brt_f2]\n",
    "pd.DataFrame(data, index=[\"Bisseção\", \"Ponto fixo\", \"Newton-Raphson\", \"Secante\", \"Brents\"], columns=[\"Raíz\", \"Iterações\", \"Exec(em seg).\"]).T\n"
   ]
  },
  {
   "cell_type": "code",
   "execution_count": null,
   "metadata": {},
   "outputs": [],
   "source": [
    "def f3(x): return 5*x**3 + x**2 - np.exp(1-2*x) + np.cos(x) + 20\n",
    "a = -5\n",
    "b = 5\n",
    "x0 = (a + b) / 2\n",
    "def g3(x): return 5*x**3 + x**2 - np.exp(1-2*x) + np.cos(x) + 20 +x\n",
    "def f3_prime(x): return 15*x**2+2*x+2*np.exp(-2*x+1)-np.sin(x)\n"
   ]
  },
  {
   "cell_type": "code",
   "execution_count": null,
   "metadata": {},
   "outputs": [],
   "source": [
    "bsc_f3 = bisection(f3, a, b, 200, 10e-10)"
   ]
  },
  {
   "cell_type": "code",
   "execution_count": null,
   "metadata": {},
   "outputs": [],
   "source": [
    "fp_f3 = fixedp(g3, a, 10e-10, 200)"
   ]
  },
  {
   "cell_type": "code",
   "execution_count": null,
   "metadata": {},
   "outputs": [],
   "source": [
    "nr_f3 = newton_raphson(f3, x0, 10e-10)"
   ]
  },
  {
   "cell_type": "code",
   "execution_count": null,
   "metadata": {},
   "outputs": [],
   "source": [
    "sec_f3 = secant_method(f3, a, b, 200, 10e-10)"
   ]
  },
  {
   "cell_type": "code",
   "execution_count": null,
   "metadata": {},
   "outputs": [],
   "source": [
    "brt_f3 = brents(f3, a, b, 200, 10e-10)"
   ]
  },
  {
   "cell_type": "code",
   "execution_count": null,
   "metadata": {},
   "outputs": [],
   "source": [
    "data = [bsc_f3, fp_f3, nr_f3, sec_f3, brt_f3]\n",
    "pd.DataFrame(data, index=[\"Bisseção\", \"Ponto fixo\", \"Newton-Raphson\", \"Secante\", \"Brents\"], columns=[\"Raíz\", \"Iterações\", \"Exec(em seg).\"]).T\n"
   ]
  },
  {
   "cell_type": "code",
   "execution_count": null,
   "metadata": {},
   "outputs": [],
   "source": [
    "def f4(x): return np.sin(x)*x+4\n",
    "a = 1\n",
    "b = 5\n",
    "x0 = (a + b) / 2\n",
    "def g4(x): return f4(x)+x\n",
    "def f4_prime(x): return x*np.cos(x)+np.sin(x)"
   ]
  },
  {
   "cell_type": "code",
   "execution_count": null,
   "metadata": {},
   "outputs": [],
   "source": [
    "bsc_f4 = bisection(f4, a, b, 200, 10e-10)"
   ]
  },
  {
   "cell_type": "code",
   "execution_count": null,
   "metadata": {},
   "outputs": [],
   "source": [
    "fp_f4 = fixedp(g4, a, 10e-10, 200)"
   ]
  },
  {
   "cell_type": "code",
   "execution_count": null,
   "metadata": {},
   "outputs": [],
   "source": [
    "nr_f4 = newton_raphson(f4, x0, 10e-10)"
   ]
  },
  {
   "cell_type": "code",
   "execution_count": null,
   "metadata": {},
   "outputs": [],
   "source": [
    "sec_f4 = secant_method(f4, a, b, 200, 10e-10)"
   ]
  },
  {
   "cell_type": "code",
   "execution_count": null,
   "metadata": {},
   "outputs": [],
   "source": [
    "brt_f4 = brents(f4, a, b, 200, 10e-10)"
   ]
  },
  {
   "cell_type": "code",
   "execution_count": null,
   "metadata": {},
   "outputs": [],
   "source": [
    "data = [bsc_f4, fp_f4, nr_f4, sec_f4, brt_f4]\n",
    "pd.DataFrame(data, index=[\"Bisseção\", \"Ponto fixo\", \"Newton-Raphson\", \"Secante\", \"Brents\"], columns=[\"Raíz\", \"Iterações\", \"Exec(em seg).\"]).T\n"
   ]
  },
  {
   "cell_type": "code",
   "execution_count": null,
   "metadata": {},
   "outputs": [],
   "source": [
    "def f5(x): return ((x-3)**5)*np.log(x)\n",
    "a = 2\n",
    "b = 5\n",
    "x0 = (a + b) / 2\n",
    "def g5(x): return f5(x)+x\n",
    "def f5_prime(x): return 5*np.log(x)*(x-3)**4+((x-3)**5)/x\n"
   ]
  },
  {
   "cell_type": "code",
   "execution_count": null,
   "metadata": {},
   "outputs": [],
   "source": [
    "bsc_f5 = bisection(f5, a, b, 200, 10e-10)"
   ]
  },
  {
   "cell_type": "code",
   "execution_count": null,
   "metadata": {},
   "outputs": [],
   "source": [
    "fp_f5 = fixedp(g5, a, 10e-10, 200)"
   ]
  },
  {
   "cell_type": "code",
   "execution_count": null,
   "metadata": {},
   "outputs": [],
   "source": [
    "nr_f5 = newton_raphson(f5, x0, 10e-10)"
   ]
  },
  {
   "cell_type": "code",
   "execution_count": null,
   "metadata": {},
   "outputs": [],
   "source": [
    "sec_f5 = secant_method(f5, a, b, 200, 10e-10)"
   ]
  },
  {
   "cell_type": "code",
   "execution_count": null,
   "metadata": {},
   "outputs": [],
   "source": [
    "brt_f5 = brents(f5, a, b, 200, 10e-10)"
   ]
  },
  {
   "cell_type": "code",
   "execution_count": null,
   "metadata": {},
   "outputs": [],
   "source": [
    "data = [bsc_f5, fp_f5, nr_f5, sec_f5, brt_f5]\n",
    "pd.DataFrame(data, index=[\"Bisseção\", \"Ponto fixo\", \"Newton-Raphson\", \"Secante\", \"Brents\"], columns=[\"Raíz\", \"Iterações\", \"Exec(em seg).\"]).T\n"
   ]
  },
  {
   "cell_type": "code",
   "execution_count": null,
   "metadata": {},
   "outputs": [],
   "source": [
    "def f6(x): return x**10-1\n",
    "a = 0.8\n",
    "b = 1.2\n",
    "x0 = (a + b) / 2\n",
    "def g6(x): return np.sqrt(1, order=10)\n",
    "def f6_prime(x): return 10*x**9\n"
   ]
  },
  {
   "cell_type": "code",
   "execution_count": null,
   "metadata": {},
   "outputs": [],
   "source": [
    "bsc_f6 = bisection(f6, a, b, 200, 10e-10)\n",
    "bsc_f6"
   ]
  },
  {
   "cell_type": "code",
   "execution_count": null,
   "metadata": {},
   "outputs": [],
   "source": [
    "fp_f6 = fixedp(g6, a, 10e-10, 200)\n",
    "fp_f6"
   ]
  },
  {
   "cell_type": "code",
   "execution_count": null,
   "metadata": {},
   "outputs": [],
   "source": [
    "nr_f6 = newton_raphson(f6, x0, 10e-10)\n",
    "nr_f6"
   ]
  },
  {
   "cell_type": "code",
   "execution_count": null,
   "metadata": {},
   "outputs": [],
   "source": [
    "sec_f6 = secant_method(f6, a, b, 200, 10e-10)"
   ]
  },
  {
   "cell_type": "code",
   "execution_count": null,
   "metadata": {},
   "outputs": [],
   "source": [
    "brt_f6 = brents(f6, a, b, 200, 10e-10)"
   ]
  },
  {
   "cell_type": "code",
   "execution_count": null,
   "metadata": {},
   "outputs": [],
   "source": [
    "data = [bsc_f6, fp_f6, nr_f6, sec_f6, brt_f6]\n",
    "pd.DataFrame(data, index=[\"Bisseção\", \"Ponto fixo\", \"Newton-Raphson\", \"Secante\", \"Brents\"], columns=[\"Raíz\", \"Iterações\", \"Exec(em seg).\"]).T\n"
   ]
  }
 ],
 "metadata": {
  "kernelspec": {
   "display_name": "Python 3",
   "language": "python",
   "name": "python3"
  },
  "language_info": {
   "codemirror_mode": {
    "name": "ipython",
    "version": 3
   },
   "file_extension": ".py",
   "mimetype": "text/x-python",
   "name": "python",
   "nbconvert_exporter": "python",
   "pygments_lexer": "ipython3",
   "version": "3.7.0"
  }
 },
 "nbformat": 4,
 "nbformat_minor": 1
}
